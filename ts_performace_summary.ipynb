{
 "cells": [
  {
   "cell_type": "code",
   "execution_count": 1,
   "id": "2dd06024",
   "metadata": {},
   "outputs": [],
   "source": [
    "import numpy as np\n",
    "import pandas as pd"
   ]
  },
  {
   "cell_type": "code",
   "execution_count": 4,
   "id": "b03efb84",
   "metadata": {},
   "outputs": [],
   "source": [
    "df = pd.read_csv('performance_summary_fh60.csv', index_col='Model')"
   ]
  },
  {
   "cell_type": "code",
   "execution_count": 5,
   "id": "f740312c",
   "metadata": {},
   "outputs": [
    {
     "data": {
      "text/html": [
       "<div>\n",
       "<style scoped>\n",
       "    .dataframe tbody tr th:only-of-type {\n",
       "        vertical-align: middle;\n",
       "    }\n",
       "\n",
       "    .dataframe tbody tr th {\n",
       "        vertical-align: top;\n",
       "    }\n",
       "\n",
       "    .dataframe thead th {\n",
       "        text-align: right;\n",
       "    }\n",
       "</style>\n",
       "<table border=\"1\" class=\"dataframe\">\n",
       "  <thead>\n",
       "    <tr style=\"text-align: right;\">\n",
       "      <th></th>\n",
       "      <th>MAE</th>\n",
       "      <th>MAPE</th>\n",
       "      <th>RMSE</th>\n",
       "    </tr>\n",
       "    <tr>\n",
       "      <th>Model</th>\n",
       "      <th></th>\n",
       "      <th></th>\n",
       "      <th></th>\n",
       "    </tr>\n",
       "  </thead>\n",
       "  <tbody>\n",
       "    <tr>\n",
       "      <th>ProphetModel</th>\n",
       "      <td>22.817</td>\n",
       "      <td>11.827</td>\n",
       "      <td>31.406</td>\n",
       "    </tr>\n",
       "    <tr>\n",
       "      <th>SARIMA</th>\n",
       "      <td>23.040</td>\n",
       "      <td>11.669</td>\n",
       "      <td>31.130</td>\n",
       "    </tr>\n",
       "    <tr>\n",
       "      <th>HoltWinters</th>\n",
       "      <td>21.833</td>\n",
       "      <td>11.269</td>\n",
       "      <td>29.178</td>\n",
       "    </tr>\n",
       "    <tr>\n",
       "      <th>ElasticNet</th>\n",
       "      <td>24.855</td>\n",
       "      <td>14.292</td>\n",
       "      <td>34.410</td>\n",
       "    </tr>\n",
       "    <tr>\n",
       "      <th>NeuralProphet</th>\n",
       "      <td>26.848</td>\n",
       "      <td>13.848</td>\n",
       "      <td>34.681</td>\n",
       "    </tr>\n",
       "  </tbody>\n",
       "</table>\n",
       "</div>"
      ],
      "text/plain": [
       "                  MAE    MAPE    RMSE\n",
       "Model                                \n",
       "ProphetModel   22.817  11.827  31.406\n",
       "SARIMA         23.040  11.669  31.130\n",
       "HoltWinters    21.833  11.269  29.178\n",
       "ElasticNet     24.855  14.292  34.410\n",
       "NeuralProphet  26.848  13.848  34.681"
      ]
     },
     "execution_count": 5,
     "metadata": {},
     "output_type": "execute_result"
    }
   ],
   "source": [
    "df"
   ]
  },
  {
   "cell_type": "code",
   "execution_count": 6,
   "id": "738bd673",
   "metadata": {},
   "outputs": [
    {
     "data": {
      "text/html": [
       "<div>\n",
       "<style scoped>\n",
       "    .dataframe tbody tr th:only-of-type {\n",
       "        vertical-align: middle;\n",
       "    }\n",
       "\n",
       "    .dataframe tbody tr th {\n",
       "        vertical-align: top;\n",
       "    }\n",
       "\n",
       "    .dataframe thead th {\n",
       "        text-align: right;\n",
       "    }\n",
       "</style>\n",
       "<table border=\"1\" class=\"dataframe\">\n",
       "  <thead>\n",
       "    <tr style=\"text-align: right;\">\n",
       "      <th></th>\n",
       "      <th>MAE</th>\n",
       "      <th>MAPE</th>\n",
       "      <th>RMSE</th>\n",
       "    </tr>\n",
       "    <tr>\n",
       "      <th>Model</th>\n",
       "      <th></th>\n",
       "      <th></th>\n",
       "      <th></th>\n",
       "    </tr>\n",
       "  </thead>\n",
       "  <tbody>\n",
       "    <tr>\n",
       "      <th>ProphetModel</th>\n",
       "      <td>19.699</td>\n",
       "      <td>10.621</td>\n",
       "      <td>29.962</td>\n",
       "    </tr>\n",
       "    <tr>\n",
       "      <th>SARIMA</th>\n",
       "      <td>17.547</td>\n",
       "      <td>9.673</td>\n",
       "      <td>25.091</td>\n",
       "    </tr>\n",
       "    <tr>\n",
       "      <th>HoltWinters</th>\n",
       "      <td>19.201</td>\n",
       "      <td>10.512</td>\n",
       "      <td>25.775</td>\n",
       "    </tr>\n",
       "    <tr>\n",
       "      <th>ElasticNet</th>\n",
       "      <td>25.365</td>\n",
       "      <td>14.145</td>\n",
       "      <td>33.596</td>\n",
       "    </tr>\n",
       "  </tbody>\n",
       "</table>\n",
       "</div>"
      ],
      "text/plain": [
       "                 MAE    MAPE    RMSE\n",
       "Model                               \n",
       "ProphetModel  19.699  10.621  29.962\n",
       "SARIMA        17.547   9.673  25.091\n",
       "HoltWinters   19.201  10.512  25.775\n",
       "ElasticNet    25.365  14.145  33.596"
      ]
     },
     "execution_count": 6,
     "metadata": {},
     "output_type": "execute_result"
    }
   ],
   "source": [
    "df2 = pd.read_csv('performance_summary_fh1.csv', index_col='Model')\n",
    "df2"
   ]
  },
  {
   "cell_type": "code",
   "execution_count": null,
   "id": "b4149637",
   "metadata": {},
   "outputs": [],
   "source": []
  }
 ],
 "metadata": {
  "kernelspec": {
   "display_name": "Python 3",
   "language": "python",
   "name": "python3"
  },
  "language_info": {
   "codemirror_mode": {
    "name": "ipython",
    "version": 3
   },
   "file_extension": ".py",
   "mimetype": "text/x-python",
   "name": "python",
   "nbconvert_exporter": "python",
   "pygments_lexer": "ipython3",
   "version": "3.8.8"
  }
 },
 "nbformat": 4,
 "nbformat_minor": 5
}
